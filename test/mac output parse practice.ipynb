{
 "cells": [
  {
   "cell_type": "code",
   "execution_count": null,
   "metadata": {},
   "outputs": [],
   "source": [
    "import re\n",
    "rawString = r\"\"\"Apple M1:\n",
    "\n",
    "      Chipset Model: Apple M1\n",
    "      Type: GPU\n",
    "      Bus: Built-In\n",
    "      Total Number of Cores: 8\n",
    "      Vendor: Apple (0x106b)\n",
    "      Metal Support: Metal 3\n",
    "      Displays:\n",
    "        Color LCD:\n",
    "          Display Type: Built-In Retina LCD\n",
    "          Resolution: 2560 x 1600 Retina\n",
    "          Main Display: Yes\n",
    "          Mirror: Off\n",
    "          Online: Yes\n",
    "          Automatically Adjust Brightness: Yes\n",
    "          Connection Type: Internal\n",
    "        Sidecar Display:\n",
    "          Resolution: 2732 x 2048\n",
    "          UI Looks like: 1366 x 1024 @ 60.00Hz\n",
    "          Framebuffer Depth: 24-Bit Color (ARGB8888)\n",
    "          Mirror: Off\n",
    "          Connection Type: AirPlay\n",
    "          Virtual Device: Yes \"\"\""
   ]
  },
  {
   "cell_type": "code",
   "execution_count": null,
   "metadata": {},
   "outputs": [],
   "source": [
    "# \"display names\"\n",
    "# (\\word_char 1+, space,\\word_char 1+)colon_char, space(if any), carriage \\return(if..), \\newline\n",
    "pattern0 = r\"\\s+(\\w+ \\w+): ?\\r?\\n\"\n",
    "# non-capturing -- whitespace_chars(1+), any_char(0+)\n",
    "pattern1 = r\"(?:\\s+.*\\r?\\n)*?\\s\"\n",
    "pattern2 = r\"Resolution: (\\d+ x \\d+)\"\n",
    "patternDisp_Res = r\"\\s+(\\w+ \\w+): ?\\r?\\n(?:\\s+.*\\r?\\n)*?\\s+Resolution: (\\d+ x \\d+)(?:.*?\\r?\\n)*?(?:\\s+UI Looks like: (\\d+ x \\d+))?(?:.*?\\r?\\n)*?\\s+(?:Main Display: )?(Yes|No)?\"\n"
   ]
  },
  {
   "cell_type": "code",
   "execution_count": null,
   "metadata": {},
   "outputs": [],
   "source": [
    "matches = re.findall(pattern0,rawString)\n",
    "lines = rawString.splitlines()\n",
    "indices = list()\n",
    "for line in lines:\n",
    "  for i in matches:\n",
    "    if i in line:\n",
    "      indices.append(lines.index(line))"
   ]
  },
  {
   "cell_type": "code",
   "execution_count": null,
   "metadata": {},
   "outputs": [],
   "source": [
    "if len(indices) == 2:\n",
    "  a = [lines[i].strip() for i in range(indices[0],indices[1])]\n",
    "  b = [lines[i].strip() for i in range(indices[1],len(lines))]\n",
    "  match_list = [a,b]\n",
    "\n",
    "  displays_list = list()\n",
    "  for d in match_list:\n",
    "    main = False\n",
    "    resolutionTuple = ()\n",
    "    scale = None\n",
    "    for line in d:\n",
    "      # Reso's\n",
    "      resolutionsPattern = r\"\\d+[^ x.]\\d+\"\n",
    "      if \"Resolution:\" in line:\n",
    "        digits = re.findall(resolutionsPattern,line)\n",
    "        resolutionTuple = tuple(digits)\n",
    "      elif \"Looks\" in line:\n",
    "        digits = re.findall(resolutionsPattern,line)\n",
    "        scale = tuple(digits)\n",
    "      # Primary\n",
    "      elif \"Main\" in line:\n",
    "        main = True\n",
    "    display_info = {\n",
    "    \"Resolution\": resolutionTuple,\n",
    "    \"UI Scale\": scale,\n",
    "    \"Primary\": main\n",
    "    }  \n",
    "    displays_list.append(display_info)    "
   ]
  }
 ],
 "metadata": {
  "kernelspec": {
   "display_name": "Python 3",
   "language": "python",
   "name": "python3"
  },
  "language_info": {
   "codemirror_mode": {
    "name": "ipython",
    "version": 3
   },
   "file_extension": ".py",
   "mimetype": "text/x-python",
   "name": "python",
   "nbconvert_exporter": "python",
   "pygments_lexer": "ipython3",
   "version": "3.11.3"
  }
 },
 "nbformat": 4,
 "nbformat_minor": 2
}
